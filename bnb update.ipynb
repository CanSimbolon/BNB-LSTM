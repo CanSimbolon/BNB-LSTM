{
 "cells": [
  {
   "cell_type": "code",
   "execution_count": 2,
   "metadata": {},
   "outputs": [],
   "source": [
    "#yahoo finance as data source\n",
    "#pip install yfinance\n",
    "import yfinance as yf"
   ]
  },
  {
   "cell_type": "code",
   "execution_count": 84,
   "metadata": {},
   "outputs": [],
   "source": [
    "#See the yahoo finance ticker for your stock symbol\n",
    "stock_symbol = 'bnb-usd'"
   ]
  },
  {
   "cell_type": "code",
   "execution_count": 85,
   "metadata": {},
   "outputs": [
    {
     "name": "stdout",
     "output_type": "stream",
     "text": [
      "[*********************100%***********************]  1 of 1 completed\n"
     ]
    }
   ],
   "source": [
    "#last 2 years data with interval of 1 day\n",
    "dataset = yf.download(tickers=stock_symbol,period='max')"
   ]
  },
  {
   "cell_type": "code",
   "execution_count": 86,
   "metadata": {},
   "outputs": [
    {
     "name": "stdout",
     "output_type": "stream",
     "text": [
      "                  Open        High         Low       Close   Adj Close  \\\n",
      "Date                                                                     \n",
      "2017-11-09    2.053140    2.174230    1.893940    1.990770    1.990770   \n",
      "2017-11-10    2.007730    2.069470    1.644780    1.796840    1.796840   \n",
      "2017-11-11    1.786280    1.917750    1.614290    1.670470    1.670470   \n",
      "2017-11-12    1.668890    1.672800    1.462560    1.519690    1.519690   \n",
      "2017-11-13    1.526010    1.735020    1.517600    1.686620    1.686620   \n",
      "...                ...         ...         ...         ...         ...   \n",
      "2022-07-11  234.599365  234.649933  225.501419  225.858505  225.858505   \n",
      "2022-07-12  225.868393  228.190842  220.464554  220.464554  220.464554   \n",
      "2022-07-13  220.492416  230.538712  216.816803  230.524765  230.524765   \n",
      "2022-07-14  230.512329  239.660156  227.579910  238.164474  238.164474   \n",
      "2022-07-15  238.336258  238.336258  235.698715  237.319214  237.319214   \n",
      "\n",
      "                Volume  \n",
      "Date                    \n",
      "2017-11-09    19192200  \n",
      "2017-11-10    11155000  \n",
      "2017-11-11     8178150  \n",
      "2017-11-12    15298700  \n",
      "2017-11-13    12238800  \n",
      "...                ...  \n",
      "2022-07-11  1021066311  \n",
      "2022-07-12  1140033692  \n",
      "2022-07-13  1431776142  \n",
      "2022-07-14  1609361574  \n",
      "2022-07-15  1660952832  \n",
      "\n",
      "[1710 rows x 6 columns]\n"
     ]
    }
   ],
   "source": [
    "print(dataset)"
   ]
  },
  {
   "cell_type": "code",
   "execution_count": 87,
   "metadata": {},
   "outputs": [],
   "source": [
    "import pandas as pd\n",
    "import numpy as np\n",
    "from datetime import datetime\n",
    "from math import sqrt\n",
    "from numpy import concatenate\n",
    "from matplotlib import pyplot\n",
    "from pandas import DataFrame\n",
    "from pandas import concat\n",
    "from sklearn.model_selection import train_test_split\n",
    "from sklearn.preprocessing import MinMaxScaler\n",
    "from sklearn.preprocessing import LabelEncoder\n",
    "from sklearn.metrics import mean_squared_error\n",
    "from keras.models import Sequential,load_model\n",
    "from keras.layers import Dense\n",
    "from keras.layers import LSTM\n",
    "#Using Tensorflow Backend"
   ]
  },
  {
   "cell_type": "code",
   "execution_count": 88,
   "metadata": {},
   "outputs": [
    {
     "data": {
      "text/plain": "array([[2.05313993e+00, 2.17423010e+00, 1.89393997e+00, 1.99076998e+00,\n        1.99076998e+00, 1.91922000e+07],\n       [2.00773001e+00, 2.06946993e+00, 1.64478004e+00, 1.79683995e+00,\n        1.79683995e+00, 1.11550000e+07],\n       [1.78628004e+00, 1.91775000e+00, 1.61429000e+00, 1.67047000e+00,\n        1.67047000e+00, 8.17815000e+06],\n       ...,\n       [2.20492416e+02, 2.30538712e+02, 2.16816803e+02, 2.30524765e+02,\n        2.30524765e+02, 1.43177614e+09],\n       [2.30512329e+02, 2.39660156e+02, 2.27579910e+02, 2.38164474e+02,\n        2.38164474e+02, 1.60936157e+09],\n       [2.38336258e+02, 2.38336258e+02, 2.35698715e+02, 2.37319214e+02,\n        2.37319214e+02, 1.66095283e+09]])"
     },
     "execution_count": 88,
     "metadata": {},
     "output_type": "execute_result"
    }
   ],
   "source": [
    "values=dataset.values\n",
    "values"
   ]
  },
  {
   "cell_type": "code",
   "execution_count": 89,
   "metadata": {},
   "outputs": [],
   "source": [
    "# ensure all data is float\n",
    "values = values.astype('float32')"
   ]
  },
  {
   "cell_type": "code",
   "execution_count": 90,
   "outputs": [
    {
     "name": "stdout",
     "output_type": "stream",
     "text": [
      "[[2.0531399e+00 2.1742301e+00 1.8939400e+00 1.9907700e+00 1.9907700e+00\n",
      "  1.9192200e+07]\n",
      " [2.0077300e+00 2.0694699e+00 1.6447800e+00 1.7968400e+00 1.7968400e+00\n",
      "  1.1155000e+07]\n",
      " [1.7862800e+00 1.9177500e+00 1.6142900e+00 1.6704700e+00 1.6704700e+00\n",
      "  8.1781500e+06]\n",
      " ...\n",
      " [2.2049242e+02 2.3053871e+02 2.1681680e+02 2.3052477e+02 2.3052477e+02\n",
      "  1.4317761e+09]\n",
      " [2.3051233e+02 2.3966016e+02 2.2757991e+02 2.3816447e+02 2.3816447e+02\n",
      "  1.6093615e+09]\n",
      " [2.3833626e+02 2.3833626e+02 2.3569872e+02 2.3731921e+02 2.3731921e+02\n",
      "  1.6609528e+09]]\n"
     ]
    }
   ],
   "source": [
    "print(values)"
   ],
   "metadata": {
    "collapsed": false,
    "pycharm": {
     "name": "#%%\n"
    }
   }
  },
  {
   "cell_type": "code",
   "execution_count": 91,
   "outputs": [
    {
     "data": {
      "text/plain": "array([  1.99077,   1.79684,   1.67047, ..., 230.52477, 238.16447,\n       237.31921], dtype=float32)"
     },
     "execution_count": 91,
     "metadata": {},
     "output_type": "execute_result"
    }
   ],
   "source": [
    "values[:, 3]"
   ],
   "metadata": {
    "collapsed": false,
    "pycharm": {
     "name": "#%%\n"
    }
   }
  },
  {
   "cell_type": "code",
   "execution_count": 92,
   "metadata": {},
   "outputs": [],
   "source": [
    "# normalize features\n",
    "scaler = MinMaxScaler(feature_range=(0,1))\n",
    "scaled = scaler.fit_transform(values)"
   ]
  },
  {
   "cell_type": "code",
   "execution_count": 93,
   "outputs": [
    {
     "name": "stdout",
     "output_type": "stream",
     "text": [
      "[[0.3454156  0.33809748 0.35388324 0.332775   0.332775   0.05677922]\n",
      " [0.33247706 0.32872766 0.3459272  0.32477415 0.32477415 0.06339479]\n",
      " [0.32451034 0.3321336  0.34016535 0.33969644 0.33969644 0.07961809]\n",
      " [0.33935896 0.34536555 0.35716635 0.3510284  0.3510284  0.0894933 ]\n",
      " [0.3509533  0.34344503 0.3699905  0.34977463 0.34977463 0.09236221]]\n"
     ]
    }
   ],
   "source": [
    "print(scaled[-5:])"
   ],
   "metadata": {
    "collapsed": false,
    "pycharm": {
     "name": "#%%\n"
    }
   }
  },
  {
   "cell_type": "code",
   "execution_count": 94,
   "metadata": {},
   "outputs": [
    {
     "name": "stdout",
     "output_type": "stream",
     "text": [
      "(1368, 6) (342, 6)\n"
     ]
    }
   ],
   "source": [
    "values = scaled\n",
    "train_X, test_X, train_y, test_y = train_test_split(values, values[:, 3], test_size=0.2, shuffle=False)\n",
    "print(train_X.shape, test_X.shape)"
   ]
  },
  {
   "cell_type": "code",
   "execution_count": 95,
   "outputs": [
    {
     "name": "stdout",
     "output_type": "stream",
     "text": [
      "[[0.3454156  0.33809748 0.35388324 0.332775   0.332775   0.05677922]\n",
      " [0.33247706 0.32872766 0.3459272  0.32477415 0.32477415 0.06339479]\n",
      " [0.32451034 0.3321336  0.34016535 0.33969644 0.33969644 0.07961809]\n",
      " [0.33935896 0.34536555 0.35716635 0.3510284  0.3510284  0.0894933 ]\n",
      " [0.3509533  0.34344503 0.3699905  0.34977463 0.34977463 0.09236221]]\n"
     ]
    }
   ],
   "source": [
    "print(test_X[-5:])"
   ],
   "metadata": {
    "collapsed": false,
    "pycharm": {
     "name": "#%%\n"
    }
   }
  },
  {
   "cell_type": "code",
   "execution_count": 96,
   "metadata": {},
   "outputs": [],
   "source": [
    "train_X = train_X.reshape((train_X.shape[0], 1, train_X.shape[1]))\n",
    "test_X = test_X.reshape((test_X.shape[0], 1, test_X.shape[1]))"
   ]
  },
  {
   "cell_type": "code",
   "execution_count": 97,
   "outputs": [
    {
     "name": "stdout",
     "output_type": "stream",
     "text": [
      "(1368, 1, 6)\n",
      "(342, 1, 6)\n"
     ]
    }
   ],
   "source": [
    "print(train_X.shape)\n",
    "print(test_X.shape)"
   ],
   "metadata": {
    "collapsed": false,
    "pycharm": {
     "name": "#%%\n"
    }
   }
  },
  {
   "cell_type": "code",
   "execution_count": 98,
   "metadata": {},
   "outputs": [],
   "source": [
    "from keras.engine import sequential\n",
    "#Design Network\n",
    "model=Sequential()\n",
    "model.add(LSTM(50,input_shape=(train_X.shape[1], train_X.shape[2])))\n",
    "model.add(Dense(1))\n",
    "model.compile(loss='mse',optimizer='adam',metrics=['mae'])\n"
   ]
  },
  {
   "cell_type": "code",
   "execution_count": 99,
   "metadata": {},
   "outputs": [
    {
     "name": "stdout",
     "output_type": "stream",
     "text": [
      "Epoch 1/100\n",
      "171/171 - 25s - loss: 0.0068 - mae: 0.0359 - val_loss: 5.1177e-04 - val_mae: 0.0203 - 25s/epoch - 146ms/step\n",
      "Epoch 2/100\n",
      "171/171 - 0s - loss: 1.2153e-04 - mae: 0.0046 - val_loss: 4.4332e-04 - val_mae: 0.0188 - 482ms/epoch - 3ms/step\n",
      "Epoch 3/100\n",
      "171/171 - 0s - loss: 1.0168e-04 - mae: 0.0043 - val_loss: 2.9460e-04 - val_mae: 0.0150 - 473ms/epoch - 3ms/step\n",
      "Epoch 4/100\n",
      "171/171 - 1s - loss: 7.4685e-05 - mae: 0.0036 - val_loss: 2.0259e-04 - val_mae: 0.0120 - 506ms/epoch - 3ms/step\n",
      "Epoch 5/100\n",
      "171/171 - 0s - loss: 6.1014e-05 - mae: 0.0032 - val_loss: 1.4370e-04 - val_mae: 0.0094 - 481ms/epoch - 3ms/step\n",
      "Epoch 6/100\n",
      "171/171 - 1s - loss: 5.2192e-05 - mae: 0.0031 - val_loss: 2.0114e-04 - val_mae: 0.0106 - 547ms/epoch - 3ms/step\n",
      "Epoch 7/100\n",
      "171/171 - 1s - loss: 4.3601e-05 - mae: 0.0026 - val_loss: 1.5327e-04 - val_mae: 0.0102 - 509ms/epoch - 3ms/step\n",
      "Epoch 8/100\n",
      "171/171 - 1s - loss: 4.5652e-05 - mae: 0.0032 - val_loss: 1.3086e-04 - val_mae: 0.0087 - 565ms/epoch - 3ms/step\n",
      "Epoch 9/100\n",
      "171/171 - 0s - loss: 4.9916e-05 - mae: 0.0035 - val_loss: 1.7301e-04 - val_mae: 0.0110 - 498ms/epoch - 3ms/step\n",
      "Epoch 10/100\n",
      "171/171 - 0s - loss: 4.5203e-05 - mae: 0.0033 - val_loss: 1.0010e-04 - val_mae: 0.0077 - 439ms/epoch - 3ms/step\n",
      "Epoch 11/100\n",
      "171/171 - 0s - loss: 3.8712e-05 - mae: 0.0027 - val_loss: 1.2298e-04 - val_mae: 0.0090 - 444ms/epoch - 3ms/step\n",
      "Epoch 12/100\n",
      "171/171 - 0s - loss: 5.2455e-05 - mae: 0.0038 - val_loss: 1.9956e-04 - val_mae: 0.0120 - 481ms/epoch - 3ms/step\n",
      "Epoch 13/100\n",
      "171/171 - 0s - loss: 3.6681e-05 - mae: 0.0029 - val_loss: 2.1859e-04 - val_mae: 0.0126 - 444ms/epoch - 3ms/step\n",
      "Epoch 14/100\n",
      "171/171 - 0s - loss: 3.7416e-05 - mae: 0.0031 - val_loss: 9.0717e-05 - val_mae: 0.0074 - 446ms/epoch - 3ms/step\n",
      "Epoch 15/100\n",
      "171/171 - 0s - loss: 2.9544e-05 - mae: 0.0025 - val_loss: 6.8091e-05 - val_mae: 0.0064 - 453ms/epoch - 3ms/step\n",
      "Epoch 16/100\n",
      "171/171 - 0s - loss: 2.7116e-05 - mae: 0.0024 - val_loss: 6.1436e-05 - val_mae: 0.0061 - 456ms/epoch - 3ms/step\n",
      "Epoch 17/100\n",
      "171/171 - 1s - loss: 2.3553e-05 - mae: 0.0023 - val_loss: 9.5304e-05 - val_mae: 0.0079 - 536ms/epoch - 3ms/step\n",
      "Epoch 18/100\n",
      "171/171 - 0s - loss: 2.4021e-05 - mae: 0.0024 - val_loss: 1.2884e-04 - val_mae: 0.0095 - 454ms/epoch - 3ms/step\n",
      "Epoch 19/100\n",
      "171/171 - 1s - loss: 2.0584e-05 - mae: 0.0021 - val_loss: 4.5028e-05 - val_mae: 0.0052 - 616ms/epoch - 4ms/step\n",
      "Epoch 20/100\n",
      "171/171 - 1s - loss: 2.0360e-05 - mae: 0.0024 - val_loss: 8.2098e-05 - val_mae: 0.0073 - 541ms/epoch - 3ms/step\n",
      "Epoch 21/100\n",
      "171/171 - 1s - loss: 1.7177e-05 - mae: 0.0020 - val_loss: 4.9574e-04 - val_mae: 0.0202 - 576ms/epoch - 3ms/step\n",
      "Epoch 22/100\n",
      "171/171 - 1s - loss: 1.9905e-05 - mae: 0.0025 - val_loss: 1.0413e-04 - val_mae: 0.0085 - 618ms/epoch - 4ms/step\n",
      "Epoch 23/100\n",
      "171/171 - 1s - loss: 1.2503e-05 - mae: 0.0018 - val_loss: 3.6988e-05 - val_mae: 0.0049 - 1s/epoch - 7ms/step\n",
      "Epoch 24/100\n",
      "171/171 - 1s - loss: 1.3885e-05 - mae: 0.0022 - val_loss: 2.8448e-05 - val_mae: 0.0043 - 655ms/epoch - 4ms/step\n",
      "Epoch 25/100\n",
      "171/171 - 1s - loss: 9.6335e-06 - mae: 0.0017 - val_loss: 7.7435e-05 - val_mae: 0.0074 - 545ms/epoch - 3ms/step\n",
      "Epoch 26/100\n",
      "171/171 - 1s - loss: 1.2923e-05 - mae: 0.0021 - val_loss: 2.9694e-05 - val_mae: 0.0041 - 714ms/epoch - 4ms/step\n",
      "Epoch 27/100\n",
      "171/171 - 1s - loss: 1.1368e-05 - mae: 0.0021 - val_loss: 7.6655e-05 - val_mae: 0.0076 - 510ms/epoch - 3ms/step\n",
      "Epoch 28/100\n",
      "171/171 - 0s - loss: 7.9652e-06 - mae: 0.0016 - val_loss: 1.6806e-05 - val_mae: 0.0032 - 482ms/epoch - 3ms/step\n",
      "Epoch 29/100\n",
      "171/171 - 0s - loss: 1.1067e-05 - mae: 0.0021 - val_loss: 7.5383e-05 - val_mae: 0.0076 - 491ms/epoch - 3ms/step\n",
      "Epoch 30/100\n",
      "171/171 - 0s - loss: 7.1767e-06 - mae: 0.0016 - val_loss: 4.3806e-05 - val_mae: 0.0056 - 450ms/epoch - 3ms/step\n",
      "Epoch 31/100\n",
      "171/171 - 0s - loss: 8.4570e-06 - mae: 0.0018 - val_loss: 5.6418e-05 - val_mae: 0.0066 - 477ms/epoch - 3ms/step\n",
      "Epoch 32/100\n",
      "171/171 - 0s - loss: 9.7308e-06 - mae: 0.0018 - val_loss: 3.3363e-05 - val_mae: 0.0049 - 479ms/epoch - 3ms/step\n",
      "Epoch 33/100\n",
      "171/171 - 0s - loss: 5.3115e-06 - mae: 0.0014 - val_loss: 2.8728e-05 - val_mae: 0.0046 - 443ms/epoch - 3ms/step\n",
      "Epoch 34/100\n",
      "171/171 - 0s - loss: 6.6253e-06 - mae: 0.0017 - val_loss: 1.2588e-05 - val_mae: 0.0026 - 466ms/epoch - 3ms/step\n",
      "Epoch 35/100\n",
      "171/171 - 0s - loss: 4.4693e-06 - mae: 0.0013 - val_loss: 8.8012e-05 - val_mae: 0.0087 - 468ms/epoch - 3ms/step\n",
      "Epoch 36/100\n",
      "171/171 - 1s - loss: 9.2432e-06 - mae: 0.0018 - val_loss: 9.2238e-05 - val_mae: 0.0087 - 519ms/epoch - 3ms/step\n",
      "Epoch 37/100\n",
      "171/171 - 0s - loss: 7.2354e-05 - mae: 0.0046 - val_loss: 1.0888e-05 - val_mae: 0.0026 - 487ms/epoch - 3ms/step\n",
      "Epoch 38/100\n",
      "171/171 - 1s - loss: 4.3525e-06 - mae: 0.0014 - val_loss: 1.1882e-05 - val_mae: 0.0025 - 552ms/epoch - 3ms/step\n",
      "Epoch 39/100\n",
      "171/171 - 0s - loss: 4.9086e-06 - mae: 0.0013 - val_loss: 1.1380e-05 - val_mae: 0.0025 - 500ms/epoch - 3ms/step\n",
      "Epoch 40/100\n",
      "171/171 - 1s - loss: 3.4089e-06 - mae: 0.0012 - val_loss: 1.7573e-05 - val_mae: 0.0035 - 513ms/epoch - 3ms/step\n",
      "Epoch 41/100\n",
      "171/171 - 0s - loss: 3.2955e-06 - mae: 0.0011 - val_loss: 8.3557e-05 - val_mae: 0.0082 - 485ms/epoch - 3ms/step\n",
      "Epoch 42/100\n",
      "171/171 - 0s - loss: 4.5483e-06 - mae: 0.0014 - val_loss: 2.3465e-05 - val_mae: 0.0039 - 460ms/epoch - 3ms/step\n",
      "Epoch 43/100\n",
      "171/171 - 0s - loss: 3.6349e-06 - mae: 0.0012 - val_loss: 1.6011e-05 - val_mae: 0.0034 - 495ms/epoch - 3ms/step\n",
      "Epoch 44/100\n",
      "171/171 - 1s - loss: 4.4701e-06 - mae: 0.0013 - val_loss: 3.5954e-05 - val_mae: 0.0053 - 527ms/epoch - 3ms/step\n",
      "Epoch 45/100\n",
      "171/171 - 1s - loss: 3.2941e-06 - mae: 0.0011 - val_loss: 1.7387e-05 - val_mae: 0.0036 - 911ms/epoch - 5ms/step\n",
      "Epoch 46/100\n",
      "171/171 - 1s - loss: 5.2137e-06 - mae: 0.0014 - val_loss: 1.8504e-05 - val_mae: 0.0037 - 840ms/epoch - 5ms/step\n",
      "Epoch 47/100\n",
      "171/171 - 1s - loss: 4.7573e-06 - mae: 0.0014 - val_loss: 8.7028e-05 - val_mae: 0.0086 - 597ms/epoch - 3ms/step\n",
      "Epoch 48/100\n",
      "171/171 - 1s - loss: 1.0401e-05 - mae: 0.0018 - val_loss: 1.6547e-05 - val_mae: 0.0031 - 621ms/epoch - 4ms/step\n",
      "Epoch 49/100\n",
      "171/171 - 1s - loss: 6.8350e-06 - mae: 0.0017 - val_loss: 1.1045e-05 - val_mae: 0.0028 - 690ms/epoch - 4ms/step\n",
      "Epoch 50/100\n",
      "171/171 - 1s - loss: 3.0747e-06 - mae: 0.0011 - val_loss: 8.5542e-06 - val_mae: 0.0021 - 592ms/epoch - 3ms/step\n",
      "Epoch 51/100\n",
      "171/171 - 1s - loss: 5.0275e-06 - mae: 0.0014 - val_loss: 2.2079e-05 - val_mae: 0.0041 - 531ms/epoch - 3ms/step\n",
      "Epoch 52/100\n",
      "171/171 - 1s - loss: 3.9182e-06 - mae: 0.0012 - val_loss: 8.6820e-05 - val_mae: 0.0086 - 611ms/epoch - 4ms/step\n",
      "Epoch 53/100\n",
      "171/171 - 1s - loss: 5.7712e-06 - mae: 0.0016 - val_loss: 7.3276e-05 - val_mae: 0.0078 - 554ms/epoch - 3ms/step\n",
      "Epoch 54/100\n",
      "171/171 - 1s - loss: 5.0736e-06 - mae: 0.0015 - val_loss: 4.4564e-05 - val_mae: 0.0059 - 539ms/epoch - 3ms/step\n",
      "Epoch 55/100\n",
      "171/171 - 1s - loss: 2.6302e-06 - mae: 9.5380e-04 - val_loss: 2.0715e-05 - val_mae: 0.0040 - 562ms/epoch - 3ms/step\n",
      "Epoch 56/100\n",
      "171/171 - 1s - loss: 5.7739e-06 - mae: 0.0015 - val_loss: 1.0635e-05 - val_mae: 0.0024 - 777ms/epoch - 5ms/step\n",
      "Epoch 57/100\n",
      "171/171 - 1s - loss: 2.2845e-06 - mae: 9.2928e-04 - val_loss: 7.8770e-06 - val_mae: 0.0020 - 965ms/epoch - 6ms/step\n",
      "Epoch 58/100\n",
      "171/171 - 1s - loss: 5.4069e-06 - mae: 0.0015 - val_loss: 2.0155e-05 - val_mae: 0.0038 - 797ms/epoch - 5ms/step\n",
      "Epoch 59/100\n",
      "171/171 - 1s - loss: 9.1295e-06 - mae: 0.0020 - val_loss: 2.6427e-05 - val_mae: 0.0046 - 545ms/epoch - 3ms/step\n",
      "Epoch 60/100\n",
      "171/171 - 1s - loss: 2.3453e-06 - mae: 9.4061e-04 - val_loss: 4.1203e-05 - val_mae: 0.0059 - 592ms/epoch - 3ms/step\n",
      "Epoch 61/100\n",
      "171/171 - 0s - loss: 6.3464e-06 - mae: 0.0016 - val_loss: 2.9782e-05 - val_mae: 0.0049 - 497ms/epoch - 3ms/step\n",
      "Epoch 62/100\n",
      "171/171 - 0s - loss: 3.5477e-06 - mae: 0.0012 - val_loss: 2.4905e-05 - val_mae: 0.0045 - 486ms/epoch - 3ms/step\n",
      "Epoch 63/100\n",
      "171/171 - 1s - loss: 3.4362e-06 - mae: 0.0012 - val_loss: 6.1456e-06 - val_mae: 0.0019 - 636ms/epoch - 4ms/step\n",
      "Epoch 64/100\n",
      "171/171 - 1s - loss: 8.1042e-06 - mae: 0.0018 - val_loss: 1.0397e-05 - val_mae: 0.0025 - 612ms/epoch - 4ms/step\n",
      "Epoch 65/100\n",
      "171/171 - 1s - loss: 3.8099e-06 - mae: 0.0013 - val_loss: 2.2810e-05 - val_mae: 0.0042 - 516ms/epoch - 3ms/step\n",
      "Epoch 66/100\n",
      "171/171 - 1s - loss: 4.4808e-06 - mae: 0.0014 - val_loss: 1.0933e-05 - val_mae: 0.0026 - 513ms/epoch - 3ms/step\n",
      "Epoch 67/100\n",
      "171/171 - 1s - loss: 2.8273e-06 - mae: 0.0011 - val_loss: 1.3728e-05 - val_mae: 0.0033 - 510ms/epoch - 3ms/step\n",
      "Epoch 68/100\n",
      "171/171 - 0s - loss: 7.5680e-06 - mae: 0.0018 - val_loss: 6.1380e-05 - val_mae: 0.0072 - 496ms/epoch - 3ms/step\n",
      "Epoch 69/100\n",
      "171/171 - 0s - loss: 3.8481e-06 - mae: 0.0013 - val_loss: 1.6834e-05 - val_mae: 0.0036 - 478ms/epoch - 3ms/step\n",
      "Epoch 70/100\n",
      "171/171 - 1s - loss: 3.8651e-06 - mae: 0.0013 - val_loss: 2.3918e-05 - val_mae: 0.0044 - 521ms/epoch - 3ms/step\n",
      "Epoch 71/100\n",
      "171/171 - 0s - loss: 4.8632e-06 - mae: 0.0014 - val_loss: 4.6663e-05 - val_mae: 0.0063 - 467ms/epoch - 3ms/step\n",
      "Epoch 72/100\n",
      "171/171 - 0s - loss: 2.5481e-06 - mae: 0.0010 - val_loss: 1.6197e-05 - val_mae: 0.0036 - 477ms/epoch - 3ms/step\n",
      "Epoch 73/100\n",
      "171/171 - 1s - loss: 3.8334e-06 - mae: 0.0013 - val_loss: 3.2528e-05 - val_mae: 0.0052 - 505ms/epoch - 3ms/step\n",
      "Epoch 74/100\n",
      "171/171 - 0s - loss: 2.6517e-06 - mae: 0.0011 - val_loss: 6.2772e-05 - val_mae: 0.0072 - 493ms/epoch - 3ms/step\n",
      "Epoch 75/100\n",
      "171/171 - 1s - loss: 5.7378e-06 - mae: 0.0015 - val_loss: 5.4182e-06 - val_mae: 0.0017 - 505ms/epoch - 3ms/step\n",
      "Epoch 76/100\n",
      "171/171 - 0s - loss: 5.4270e-06 - mae: 0.0016 - val_loss: 9.7809e-06 - val_mae: 0.0024 - 497ms/epoch - 3ms/step\n",
      "Epoch 77/100\n",
      "171/171 - 1s - loss: 3.9794e-06 - mae: 0.0013 - val_loss: 1.3148e-05 - val_mae: 0.0032 - 564ms/epoch - 3ms/step\n",
      "Epoch 78/100\n",
      "171/171 - 1s - loss: 4.0412e-06 - mae: 0.0013 - val_loss: 1.3571e-05 - val_mae: 0.0031 - 578ms/epoch - 3ms/step\n",
      "Epoch 79/100\n",
      "171/171 - 1s - loss: 7.9846e-06 - mae: 0.0018 - val_loss: 4.5896e-06 - val_mae: 0.0016 - 673ms/epoch - 4ms/step\n",
      "Epoch 80/100\n",
      "171/171 - 0s - loss: 2.1251e-06 - mae: 9.0711e-04 - val_loss: 3.6970e-05 - val_mae: 0.0058 - 472ms/epoch - 3ms/step\n",
      "Epoch 81/100\n",
      "171/171 - 1s - loss: 3.0750e-06 - mae: 0.0012 - val_loss: 1.1621e-05 - val_mae: 0.0028 - 504ms/epoch - 3ms/step\n",
      "Epoch 82/100\n",
      "171/171 - 1s - loss: 3.2512e-06 - mae: 0.0013 - val_loss: 7.3926e-06 - val_mae: 0.0021 - 509ms/epoch - 3ms/step\n",
      "Epoch 83/100\n",
      "171/171 - 1s - loss: 9.5177e-06 - mae: 0.0018 - val_loss: 2.7798e-05 - val_mae: 0.0047 - 574ms/epoch - 3ms/step\n",
      "Epoch 84/100\n",
      "171/171 - 1s - loss: 5.8246e-06 - mae: 0.0015 - val_loss: 4.4523e-05 - val_mae: 0.0061 - 638ms/epoch - 4ms/step\n",
      "Epoch 85/100\n",
      "171/171 - 1s - loss: 5.9064e-06 - mae: 0.0014 - val_loss: 5.0503e-05 - val_mae: 0.0064 - 663ms/epoch - 4ms/step\n",
      "Epoch 86/100\n",
      "171/171 - 1s - loss: 2.7927e-06 - mae: 0.0010 - val_loss: 6.2670e-06 - val_mae: 0.0021 - 598ms/epoch - 3ms/step\n",
      "Epoch 87/100\n",
      "171/171 - 1s - loss: 2.1303e-06 - mae: 9.5232e-04 - val_loss: 5.4778e-06 - val_mae: 0.0020 - 691ms/epoch - 4ms/step\n",
      "Epoch 88/100\n",
      "171/171 - 0s - loss: 1.8345e-06 - mae: 8.6448e-04 - val_loss: 5.4102e-06 - val_mae: 0.0017 - 474ms/epoch - 3ms/step\n",
      "Epoch 89/100\n",
      "171/171 - 1s - loss: 1.2753e-05 - mae: 0.0022 - val_loss: 6.0576e-06 - val_mae: 0.0017 - 607ms/epoch - 4ms/step\n",
      "Epoch 90/100\n",
      "171/171 - 1s - loss: 4.5177e-06 - mae: 0.0012 - val_loss: 4.5409e-05 - val_mae: 0.0065 - 601ms/epoch - 4ms/step\n",
      "Epoch 91/100\n",
      "171/171 - 1s - loss: 6.1617e-06 - mae: 0.0015 - val_loss: 1.4747e-05 - val_mae: 0.0034 - 608ms/epoch - 4ms/step\n",
      "Epoch 92/100\n",
      "171/171 - 1s - loss: 1.7432e-06 - mae: 8.7189e-04 - val_loss: 2.0134e-04 - val_mae: 0.0135 - 514ms/epoch - 3ms/step\n",
      "Epoch 93/100\n",
      "171/171 - 1s - loss: 7.5204e-06 - mae: 0.0019 - val_loss: 3.6990e-06 - val_mae: 0.0015 - 643ms/epoch - 4ms/step\n",
      "Epoch 94/100\n",
      "171/171 - 1s - loss: 5.0034e-06 - mae: 0.0014 - val_loss: 3.8991e-06 - val_mae: 0.0014 - 627ms/epoch - 4ms/step\n",
      "Epoch 95/100\n",
      "171/171 - 1s - loss: 2.0011e-06 - mae: 9.0466e-04 - val_loss: 1.0234e-04 - val_mae: 0.0093 - 585ms/epoch - 3ms/step\n",
      "Epoch 96/100\n",
      "171/171 - 0s - loss: 4.6348e-06 - mae: 0.0014 - val_loss: 6.5999e-05 - val_mae: 0.0074 - 479ms/epoch - 3ms/step\n",
      "Epoch 97/100\n",
      "171/171 - 0s - loss: 4.1585e-06 - mae: 0.0014 - val_loss: 1.3758e-04 - val_mae: 0.0113 - 490ms/epoch - 3ms/step\n",
      "Epoch 98/100\n",
      "171/171 - 1s - loss: 5.8914e-06 - mae: 0.0015 - val_loss: 3.8115e-06 - val_mae: 0.0015 - 515ms/epoch - 3ms/step\n",
      "Epoch 99/100\n",
      "171/171 - 1s - loss: 2.4780e-06 - mae: 0.0010 - val_loss: 2.9010e-05 - val_mae: 0.0049 - 969ms/epoch - 6ms/step\n",
      "Epoch 100/100\n",
      "171/171 - 1s - loss: 3.2354e-06 - mae: 0.0011 - val_loss: 9.9218e-06 - val_mae: 0.0028 - 698ms/epoch - 4ms/step\n"
     ]
    }
   ],
   "source": [
    "history = model.fit(train_X, train_y, epochs=100, batch_size=8, validation_data=(test_X, test_y), verbose=2)\n",
    "model.save(\"model.h5\")"
   ]
  },
  {
   "cell_type": "code",
   "execution_count": 100,
   "metadata": {},
   "outputs": [
    {
     "data": {
      "text/plain": "<Figure size 432x288 with 1 Axes>",
      "image/png": "[encoded data removed]"
     },
     "metadata": {
      "needs_background": "light"
     },
     "output_type": "display_data"
    }
   ],
   "source": [
    "pyplot.plot(history.history['loss'],label='train')\n",
    "pyplot.plot(history.history['val_loss'],label='test')\n",
    "pyplot.legend()\n",
    "pyplot.show()"
   ]
  },
  {
   "cell_type": "code",
   "execution_count": 101,
   "outputs": [
    {
     "data": {
      "text/plain": "(342, 1, 6)"
     },
     "execution_count": 101,
     "metadata": {},
     "output_type": "execute_result"
    }
   ],
   "source": [
    "test_X.shape"
   ],
   "metadata": {
    "collapsed": false,
    "pycharm": {
     "name": "#%%\n"
    }
   }
  },
  {
   "cell_type": "code",
   "execution_count": 108,
   "metadata": {},
   "outputs": [],
   "source": [
    "yhat = model.predict(test_X)\n",
    "test_X=test_X.reshape((test_X.shape[0],test_X.shape[2])) #1"
   ]
  },
  {
   "cell_type": "code",
   "execution_count": 109,
   "metadata": {},
   "outputs": [
    {
     "name": "stdout",
     "output_type": "stream",
     "text": [
      "(342, 1)\n",
      "(342,)\n"
     ]
    }
   ],
   "source": [
    "print(yhat.shape)\n",
    "print(test_y.shape)"
   ]
  },
  {
   "cell_type": "code",
   "execution_count": 110,
   "outputs": [
    {
     "name": "stdout",
     "output_type": "stream",
     "text": [
      "[[0.5074738 ]\n",
      " [0.52520156]\n",
      " [0.55132717]\n",
      " [0.58344704]\n",
      " [0.5732863 ]\n",
      " [0.60981035]\n",
      " [0.60786253]\n",
      " [0.61454785]\n",
      " [0.6224136 ]\n",
      " [0.5997006 ]\n",
      " [0.59172463]\n",
      " [0.63945174]\n",
      " [0.6754311 ]\n",
      " [0.667758  ]\n",
      " [0.6677366 ]\n",
      " [0.7438573 ]\n",
      " [0.70035684]\n",
      " [0.74758273]\n",
      " [0.7129275 ]\n",
      " [0.7340116 ]\n",
      " [0.7231458 ]\n",
      " [0.71521187]\n",
      " [0.68342257]\n",
      " [0.6911768 ]\n",
      " [0.7277172 ]\n",
      " [0.72095394]\n",
      " [0.7263453 ]\n",
      " [0.7418288 ]\n",
      " [0.74957377]\n",
      " [0.73706084]\n",
      " [0.6163287 ]\n",
      " [0.6138804 ]\n",
      " [0.6275893 ]\n",
      " [0.5984782 ]\n",
      " [0.6036843 ]\n",
      " [0.61875886]\n",
      " [0.5918362 ]\n",
      " [0.6150029 ]\n",
      " [0.64128095]\n",
      " [0.630578  ]\n",
      " [0.6042595 ]\n",
      " [0.61108315]\n",
      " [0.60763574]\n",
      " [0.5381563 ]\n",
      " [0.51245785]\n",
      " [0.56211764]\n",
      " [0.56868184]\n",
      " [0.5256974 ]\n",
      " [0.51898116]\n",
      " [0.5076839 ]\n",
      " [0.50023955]\n",
      " [0.49426574]\n",
      " [0.5456065 ]\n",
      " [0.574255  ]\n",
      " [0.62554866]\n",
      " [0.63631856]\n",
      " [0.6402325 ]\n",
      " [0.63129014]\n",
      " [0.6580436 ]\n",
      " [0.64495194]\n",
      " [0.6524268 ]\n",
      " [0.6232487 ]\n",
      " [0.626965  ]\n",
      " [0.6020862 ]\n",
      " [0.61524427]\n",
      " [0.65671575]\n",
      " [0.6978315 ]\n",
      " [0.7021198 ]\n",
      " [0.7023203 ]\n",
      " [0.69353944]\n",
      " [0.6989542 ]\n",
      " [0.72137886]\n",
      " [0.7268167 ]\n",
      " [0.74501944]\n",
      " [0.7004715 ]\n",
      " [0.7143108 ]\n",
      " [0.722232  ]\n",
      " [0.70822036]\n",
      " [0.7214231 ]\n",
      " [0.7114438 ]\n",
      " [0.66780764]\n",
      " [0.7317504 ]\n",
      " [0.78753215]\n",
      " [0.7840562 ]\n",
      " [0.778636  ]\n",
      " [0.8179963 ]\n",
      " [0.8232501 ]\n",
      " [0.8428747 ]\n",
      " [0.82958996]\n",
      " [0.903561  ]\n",
      " [0.94164103]\n",
      " [0.96393836]\n",
      " [0.966101  ]\n",
      " [0.93998176]\n",
      " [0.9091503 ]\n",
      " [0.93326986]\n",
      " [0.9265753 ]\n",
      " [0.96317935]\n",
      " [0.9627656 ]\n",
      " [0.9378412 ]\n",
      " [0.87086153]\n",
      " [0.85536355]\n",
      " [0.78940725]\n",
      " [0.8641881 ]\n",
      " [0.895604  ]\n",
      " [0.86781365]\n",
      " [0.8294143 ]\n",
      " [0.87967026]\n",
      " [0.8622881 ]\n",
      " [0.9002663 ]\n",
      " [0.8650433 ]\n",
      " [0.8929431 ]\n",
      " [0.90375936]\n",
      " [0.9249708 ]\n",
      " [0.9216174 ]\n",
      " [0.932385  ]\n",
      " [0.9166157 ]\n",
      " [0.88047624]\n",
      " [0.8344753 ]\n",
      " [0.8281557 ]\n",
      " [0.87233865]\n",
      " [0.8602015 ]\n",
      " [0.9007575 ]\n",
      " [0.84863746]\n",
      " [0.8238297 ]\n",
      " [0.8382811 ]\n",
      " [0.8482251 ]\n",
      " [0.77311707]\n",
      " [0.7618307 ]\n",
      " [0.8019777 ]\n",
      " [0.7827538 ]\n",
      " [0.78112966]\n",
      " [0.7935181 ]\n",
      " [0.789119  ]\n",
      " [0.77662086]\n",
      " [0.786444  ]\n",
      " [0.7947418 ]\n",
      " [0.8152013 ]\n",
      " [0.8056611 ]\n",
      " [0.8140443 ]\n",
      " [0.81226045]\n",
      " [0.83679736]\n",
      " [0.7936805 ]\n",
      " [0.76445323]\n",
      " [0.7720143 ]\n",
      " [0.7614354 ]\n",
      " [0.78437424]\n",
      " [0.7895123 ]\n",
      " [0.7613101 ]\n",
      " [0.7549929 ]\n",
      " [0.7055809 ]\n",
      " [0.7021472 ]\n",
      " [0.6643478 ]\n",
      " [0.6393402 ]\n",
      " [0.6524853 ]\n",
      " [0.6301581 ]\n",
      " [0.6884322 ]\n",
      " [0.7230227 ]\n",
      " [0.70496225]\n",
      " [0.7276281 ]\n",
      " [0.7366039 ]\n",
      " [0.7415503 ]\n",
      " [0.70667976]\n",
      " [0.70075566]\n",
      " [0.6875441 ]\n",
      " [0.65652514]\n",
      " [0.56979054]\n",
      " [0.53043264]\n",
      " [0.56978846]\n",
      " [0.54718274]\n",
      " [0.56932676]\n",
      " [0.55910707]\n",
      " [0.5771831 ]\n",
      " [0.5727064 ]\n",
      " [0.5783214 ]\n",
      " [0.56040037]\n",
      " [0.5569496 ]\n",
      " [0.57232624]\n",
      " [0.5459843 ]\n",
      " [0.5494107 ]\n",
      " [0.5919714 ]\n",
      " [0.617109  ]\n",
      " [0.62305087]\n",
      " [0.6439434 ]\n",
      " [0.6091403 ]\n",
      " [0.6283428 ]\n",
      " [0.618136  ]\n",
      " [0.5950072 ]\n",
      " [0.5990914 ]\n",
      " [0.5928101 ]\n",
      " [0.59878534]\n",
      " [0.6427347 ]\n",
      " [0.63578254]\n",
      " [0.5988309 ]\n",
      " [0.59408647]\n",
      " [0.5944902 ]\n",
      " [0.5654452 ]\n",
      " [0.5316447 ]\n",
      " [0.55424356]\n",
      " [0.5454233 ]\n",
      " [0.5315168 ]\n",
      " [0.5558338 ]\n",
      " [0.5557752 ]\n",
      " [0.5362495 ]\n",
      " [0.58630586]\n",
      " [0.6073673 ]\n",
      " [0.6080154 ]\n",
      " [0.5981911 ]\n",
      " [0.5563701 ]\n",
      " [0.5706632 ]\n",
      " [0.55706984]\n",
      " [0.56502837]\n",
      " [0.56741625]\n",
      " [0.585342  ]\n",
      " [0.5521612 ]\n",
      " [0.55255365]\n",
      " [0.55409616]\n",
      " [0.5377524 ]\n",
      " [0.55377793]\n",
      " [0.55057895]\n",
      " [0.57180375]\n",
      " [0.5815211 ]\n",
      " [0.5899114 ]\n",
      " [0.59455734]\n",
      " [0.58026177]\n",
      " [0.5885828 ]\n",
      " [0.6011752 ]\n",
      " [0.6067369 ]\n",
      " [0.61535347]\n",
      " [0.61094797]\n",
      " [0.61784667]\n",
      " [0.6394662 ]\n",
      " [0.64090806]\n",
      " [0.64685035]\n",
      " [0.6580556 ]\n",
      " [0.63842005]\n",
      " [0.6619386 ]\n",
      " [0.6505905 ]\n",
      " [0.66964513]\n",
      " [0.6637819 ]\n",
      " [0.6634678 ]\n",
      " [0.6247249 ]\n",
      " [0.6490333 ]\n",
      " [0.6272794 ]\n",
      " [0.6349314 ]\n",
      " [0.6227174 ]\n",
      " [0.5858506 ]\n",
      " [0.6148701 ]\n",
      " [0.6286081 ]\n",
      " [0.6166624 ]\n",
      " [0.6204122 ]\n",
      " [0.6200751 ]\n",
      " [0.6055888 ]\n",
      " [0.61834455]\n",
      " [0.62777513]\n",
      " [0.6226712 ]\n",
      " [0.6026531 ]\n",
      " [0.6054346 ]\n",
      " [0.59674895]\n",
      " [0.59346265]\n",
      " [0.5986679 ]\n",
      " [0.57294947]\n",
      " [0.5814734 ]\n",
      " [0.60384506]\n",
      " [0.58435464]\n",
      " [0.5622321 ]\n",
      " [0.5793609 ]\n",
      " [0.5781352 ]\n",
      " [0.56951123]\n",
      " [0.5976036 ]\n",
      " [0.56356555]\n",
      " [0.56268334]\n",
      " [0.5426869 ]\n",
      " [0.52708906]\n",
      " [0.446218  ]\n",
      " [0.4727286 ]\n",
      " [0.40137136]\n",
      " [0.3930757 ]\n",
      " [0.43116376]\n",
      " [0.4370442 ]\n",
      " [0.45947447]\n",
      " [0.43998045]\n",
      " [0.45261505]\n",
      " [0.42595944]\n",
      " [0.45292562]\n",
      " [0.44756445]\n",
      " [0.46165106]\n",
      " [0.4731599 ]\n",
      " [0.4713853 ]\n",
      " [0.4854001 ]\n",
      " [0.4835798 ]\n",
      " [0.45224622]\n",
      " [0.44481486]\n",
      " [0.4545869 ]\n",
      " [0.45169207]\n",
      " [0.47568515]\n",
      " [0.4739712 ]\n",
      " [0.4456093 ]\n",
      " [0.45518336]\n",
      " [0.4412091 ]\n",
      " [0.4453525 ]\n",
      " [0.44146666]\n",
      " [0.4377867 ]\n",
      " [0.4271392 ]\n",
      " [0.42631266]\n",
      " [0.42819878]\n",
      " [0.42338485]\n",
      " [0.3986195 ]\n",
      " [0.3777601 ]\n",
      " [0.32896113]\n",
      " [0.32678735]\n",
      " [0.33955356]\n",
      " [0.30963573]\n",
      " [0.31690797]\n",
      " [0.28905812]\n",
      " [0.31321484]\n",
      " [0.317015  ]\n",
      " [0.32273674]\n",
      " [0.31448153]\n",
      " [0.3354115 ]\n",
      " [0.35287574]\n",
      " [0.35134295]\n",
      " [0.34477583]\n",
      " [0.3438809 ]\n",
      " [0.33489615]\n",
      " [0.32235405]\n",
      " [0.32003844]\n",
      " [0.31798473]\n",
      " [0.31957337]\n",
      " [0.320729  ]\n",
      " [0.33883658]\n",
      " [0.33891016]\n",
      " [0.35016426]\n",
      " [0.35490865]\n",
      " [0.35451227]\n",
      " [0.357765  ]\n",
      " [0.3451555 ]\n",
      " [0.33233407]\n",
      " [0.32442033]\n",
      " [0.3376233 ]\n",
      " [0.34969756]\n",
      " [0.34903014]]\n"
     ]
    }
   ],
   "source": [
    "print(yhat)"
   ],
   "metadata": {
    "collapsed": false,
    "pycharm": {
     "name": "#%%\n"
    }
   }
  },
  {
   "cell_type": "code",
   "execution_count": 111,
   "metadata": {},
   "outputs": [
    {
     "data": {
      "text/plain": "[<matplotlib.lines.Line2D at 0x19d703e0280>]"
     },
     "execution_count": 111,
     "metadata": {},
     "output_type": "execute_result"
    },
    {
     "data": {
      "text/plain": "<Figure size 432x288 with 1 Axes>",
      "image/png": "[encoded data removed]"
     },
     "metadata": {
      "needs_background": "light"
     },
     "output_type": "display_data"
    }
   ],
   "source": [
    "pyplot.plot(test_y)"
   ]
  },
  {
   "cell_type": "code",
   "execution_count": 111,
   "outputs": [],
   "source": [],
   "metadata": {
    "collapsed": false,
    "pycharm": {
     "name": "#%%\n"
    }
   }
  },
  {
   "cell_type": "code",
   "execution_count": 112,
   "metadata": {},
   "outputs": [
    {
     "data": {
      "text/plain": "<matplotlib.legend.Legend at 0x19d77d388e0>"
     },
     "execution_count": 112,
     "metadata": {},
     "output_type": "execute_result"
    },
    {
     "data": {
      "text/plain": "<Figure size 432x288 with 1 Axes>",
      "image/png": "[encoded data removed]"
     },
     "metadata": {
      "needs_background": "light"
     },
     "output_type": "display_data"
    }
   ],
   "source": [
    "pyplot.plot(test_y,label=\"Asli\")\n",
    "pyplot.plot(yhat,label=\"Prediksi\") \n",
    "pyplot.legend(loc=\"best\")"
   ]
  },
  {
   "cell_type": "code",
   "execution_count": 112,
   "outputs": [],
   "source": [],
   "metadata": {
    "collapsed": false,
    "pycharm": {
     "name": "#%%\n"
    }
   }
  },
  {
   "cell_type": "code",
   "execution_count": 113,
   "metadata": {},
   "outputs": [
    {
     "name": "stdout",
     "output_type": "stream",
     "text": [
      "[[0.5074738  0.5195566  0.53040135 0.5051434  0.5051434  0.08603293]\n",
      " [0.52520156 0.5161631  0.5247445  0.524281   0.524281   0.09166542]\n",
      " [0.55132717 0.54274416 0.5494518  0.5494786  0.5494786  0.11958373]\n",
      " ...\n",
      " [0.3376233  0.3321336  0.34016535 0.33969644 0.33969644 0.07961809]\n",
      " [0.34969756 0.34536555 0.35716635 0.3510284  0.3510284  0.0894933 ]\n",
      " [0.34903014 0.34344503 0.3699905  0.34977463 0.34977463 0.09236221]]\n",
      "Harga Prediksi\n",
      "[343.957   355.91977 373.54944 395.2241  388.36755 413.01416 411.69977\n",
      " 416.21106 421.51886 406.19208 400.80984 433.0163  457.29532 452.1175\n",
      " 452.10306 503.46967 474.11536 505.98358 482.59808 496.8257  489.49344\n",
      " 484.1396  462.68802 467.9206  492.57825 488.01437 491.65247 502.1008\n",
      " 507.32715 498.88336 417.41278 415.76065 425.01147 405.36716 408.88028\n",
      " 419.05264 400.88513 416.5181  434.25067 427.02826 409.2684  413.87305\n",
      " 411.54672 364.66165 347.32025 380.8309  385.26044 356.25436 351.7222\n",
      " 344.09875 339.0753  335.04413 369.68912 389.02124 423.63443 430.902\n",
      " 433.54315 427.50882 445.5622  436.72787 441.7719  422.08243 424.59018\n",
      " 407.80185 416.681   444.66614 472.41122 475.30502 475.44028 469.51492\n",
      " 473.16885 488.3011  491.97058 504.25388 474.19272 483.53156 488.8768\n",
      " 479.4217  488.33093 481.59686 452.151   495.29987 532.94165 530.59607\n",
      " 526.9385  553.499   557.0443  570.28705 561.32245 611.2384  636.935\n",
      " 651.9813  653.4407  635.8153  615.01013 631.28613 626.7686  651.4692\n",
      " 651.18994 634.37085 589.17267 578.7146  534.207   584.66943 605.869\n",
      " 587.11597 561.2039  595.1169  583.3873  609.01514 585.2465  604.0734\n",
      " 611.3723  625.68585 623.423   630.689   620.0478  595.6607  564.6191\n",
      " 560.3546  590.16943 581.97925 609.3466  574.1758  557.4354  567.18726\n",
      " 573.8975  523.2143  515.59814 542.6896  529.7172  528.6212  536.981\n",
      " 534.01245 525.5787  532.20734 537.80676 551.6129  545.1751  550.83215\n",
      " 549.6284  566.18604 537.0906  517.36786 522.47015 515.3314  530.81067\n",
      " 534.27783 515.2469  510.984   477.64056 475.3235  449.81628 432.94104\n",
      " 441.81143 426.74493 466.06854 489.41037 477.22308 492.51813 498.57504\n",
      " 501.9129  478.38208 474.38446 465.46924 444.5375  386.0086  359.4497\n",
      " 386.0072  370.75278 385.69565 378.79935 390.99716 387.97626 391.76526\n",
      " 379.6721  377.3435  387.71973 369.94406 372.2562  400.97635 417.93933\n",
      " 421.9489  436.0473  412.56198 425.51996 418.63232 403.0249  405.78098\n",
      " 401.5423  405.57443 435.23166 430.5403  405.60516 402.40363 402.67603\n",
      " 383.07635 360.26764 375.51743 369.5655  360.1813  376.59055 376.55103\n",
      " 363.37497 397.15323 411.36557 411.80292 405.17343 376.95242 386.5975\n",
      " 377.42462 382.79507 384.40643 396.5028  374.11227 374.37708 375.41797\n",
      " 364.38913 375.20322 373.04456 387.36713 393.92444 399.58624 402.72137\n",
      " 393.07465 398.68973 407.1871  410.9402  416.75467 413.78183 418.4371\n",
      " 433.0261  433.99902 438.0089  445.57028 432.3201  448.19055 440.53278\n",
      " 453.39093 449.4344  449.22247 423.07858 439.482   424.80237 429.96594\n",
      " 421.72388 396.846   416.42847 425.69897 417.63794 420.1683  419.94086\n",
      " 410.16544 418.77307 425.13687 421.69272 408.18442 410.06137 404.20026\n",
      " 401.98267 405.4952  388.14026 393.89227 408.98874 395.83652 380.9081\n",
      " 392.46674 391.63962 385.82013 404.777   381.80795 381.21265 367.71893\n",
      " 357.19345 302.6213  320.51077 272.35858 266.76062 292.46262 296.4308\n",
      " 311.56683 298.41217 306.93805 288.9507  307.14764 303.52988 313.03558\n",
      " 320.80182 319.6043  329.06155 327.83322 306.68918 301.67444 308.26868\n",
      " 306.31522 322.50586 321.34927 302.21054 308.67117 299.24127 302.03726\n",
      " 299.41507 296.93182 289.74683 289.1891  290.46185 287.21338 270.50162\n",
      " 256.4256  223.49583 222.02896 230.64365 210.45496 215.3623  196.56909\n",
      " 212.87016 215.43452 219.29558 213.72493 227.84856 239.63351 238.59918\n",
      " 234.16766 233.56375 227.50081 219.03734 217.47476 216.0889  217.16093\n",
      " 217.94073 230.15982 230.20949 237.8038  241.00533 240.73785 242.9328\n",
      " 234.42387 225.77191 220.43167 229.3411  237.48886 237.03848]\n"
     ]
    }
   ],
   "source": [
    "#invert scaling for predict\n",
    "inv_yhat=concatenate((yhat,test_X[:,1:]),axis=1)\n",
    "print(inv_yhat)\n",
    "inv_yhat=scaler.inverse_transform(inv_yhat)\n",
    "inv_yhat=inv_yhat[:,0]\n",
    "print(\"Harga Prediksi\")\n",
    "print(inv_yhat)"
   ]
  },
  {
   "cell_type": "code",
   "execution_count": 114,
   "metadata": {},
   "outputs": [],
   "source": [
    "#invert scaling for actual\n",
    "test_y=test_y.reshape((len(test_y),1))\n",
    "inv_y=concatenate((test_y,test_X[:,1:]),axis=1)\n",
    "inv_y=scaler.inverse_transform(inv_y)\n",
    "inv_y=inv_y[:,0]"
   ]
  },
  {
   "cell_type": "code",
   "execution_count": 115,
   "metadata": {},
   "outputs": [
    {
     "data": {
      "text/plain": "7.535935507004314e-235"
     },
     "execution_count": 115,
     "metadata": {},
     "output_type": "execute_result"
    }
   ],
   "source": [
    "mape=np.mean(np.abs((inv_y-inv_yhat)/inv_y))**100\n",
    "mape"
   ]
  },
  {
   "cell_type": "code",
   "execution_count": 116,
   "metadata": {},
   "outputs": [
    {
     "name": "stdout",
     "output_type": "stream",
     "text": [
      "PRICEE DATA AKTUAL : \n",
      "[342.38443 355.29858 372.302   392.1232  386.1796  411.329   409.41684\n",
      " 414.98257 417.86108 402.28455 398.62372 431.39172 455.3616  449.3399\n",
      " 449.4733  500.35794 472.03635 503.2563  479.4539  494.96097 486.65146\n",
      " 480.73203 459.9203  464.8529  490.5269  484.37347 489.0615  498.54407\n",
      " 505.09164 496.38864 417.89905 415.5012  421.6638  401.99716 405.90643\n",
      " 417.07272 399.43643 414.6234  431.82632 425.04617 407.0129  411.1933\n",
      " 408.85345 362.3042  344.8566  379.79498 384.17914 355.64835 350.20706\n",
      " 344.50342 336.5054  333.3438  368.33353 387.4191  422.03732 428.4985\n",
      " 430.91122 426.14688 443.12    435.80835 439.17188 419.4938  421.94348\n",
      " 405.44794 413.84268 444.28247 471.1898  472.46368 474.14548 466.07776\n",
      " 471.06552 485.56454 488.60522 501.4887  471.69748 479.0906  486.3607\n",
      " 477.0787  485.09814 478.47192 449.4277  492.47552 530.1173  528.4148\n",
      " 524.85474 551.7713  554.96606 569.1104  560.2606  609.21716 636.70874\n",
      " 651.06226 654.9268  635.78455 615.8534  630.4813  627.22845 650.71204\n",
      " 651.52673 633.64056 590.3744  578.6333  532.7352  582.0746  604.40466\n",
      " 585.8415  559.6498  591.99255 581.9389  604.29474 585.69446 600.89813\n",
      " 611.9385  624.8938  623.2521  628.5588  620.0494  595.192   569.6094\n",
      " 558.30457 589.8071  580.2319  608.1609  572.1835  553.4839  564.85016\n",
      " 571.3577  521.4987  511.7073  541.53284 526.7385  526.19775 534.39056\n",
      " 530.4675  523.6516  529.2053  534.1439  549.23883 542.4087  547.83795\n",
      " 547.5064  563.16754 535.42816 514.4813  519.3949  512.1867  527.84576\n",
      " 531.8935  512.6148  507.9806  475.50107 473.71805 448.20706 430.64835\n",
      " 439.21326 425.331   463.95163 487.4627  475.47318 490.3254  495.45084\n",
      " 498.89392 476.15457 472.44632 463.25473 440.41675 383.43195 358.43082\n",
      " 384.29282 371.71603 384.97885 376.10666 390.45288 386.44525 389.4965\n",
      " 377.96585 375.62805 385.82407 367.8151  371.22437 399.40256 414.5872\n",
      " 419.9377  433.63428 409.15884 422.86047 415.50726 400.7967  403.76678\n",
      " 399.2596  404.0381  432.8136  428.3181  402.82623 399.94266 400.4175\n",
      " 381.1819  356.99457 374.65732 366.88205 361.57224 375.26538 373.98798\n",
      " 360.86798 395.9822  408.8641  409.3826  402.92697 374.63068 385.23306\n",
      " 375.3617  381.70105 382.31555 393.92358 372.50687 372.53192 373.07874\n",
      " 362.188   373.8152  371.97617 385.88855 392.19098 398.01718 400.22726\n",
      " 391.1336  396.8184  404.69287 408.9917  414.51407 411.19513 416.3086\n",
      " 430.90567 430.79318 434.91183 443.09866 429.31705 447.02176 437.3638\n",
      " 450.76987 447.94327 445.58875 420.53906 437.20508 422.07138 427.55234\n",
      " 418.98193 394.45523 414.26077 423.5257  415.05133 417.6838  417.86868\n",
      " 407.7585  417.35815 422.78186 418.74527 405.40002 407.36795 402.0279\n",
      " 399.47842 404.7282  385.84335 391.81168 407.0984  393.42957 378.1209\n",
      " 390.64676 390.03485 383.8342  402.87888 379.12762 379.6588  366.02588\n",
      " 355.7309  299.62863 319.62537 270.21497 269.65894 290.8557  297.66547\n",
      " 312.29926 297.98828 306.24933 287.70734 307.07822 302.64175 312.758\n",
      " 319.90765 317.05655 328.496   326.03918 305.24887 301.25327 308.10306\n",
      " 306.26096 322.05356 320.78458 300.78482 308.38968 298.6767  301.91296\n",
      " 299.21402 295.67203 290.6124  288.88574 290.19052 286.31393 269.73877\n",
      " 256.18997 222.71358 223.42973 233.61469 209.7344  216.09341 197.22697\n",
      " 215.12123 217.13686 219.70361 214.462   229.16759 240.4627  239.91455\n",
      " 234.07716 233.87225 227.13927 219.48924 219.5049  216.2172  218.23885\n",
      " 219.18481 231.7904  231.06195 238.7227  241.77013 240.97559 243.46828\n",
      " 234.87476 226.06944 220.67043 230.74007 238.38693 237.54088]\n"
     ]
    }
   ],
   "source": [
    "print(\"PRICEE DATA AKTUAL : \")\n",
    "print(inv_y)"
   ]
  },
  {
   "cell_type": "code",
   "execution_count": 117,
   "metadata": {},
   "outputs": [
    {
     "name": "stdout",
     "output_type": "stream",
     "text": [
      "(6,)\n",
      "(1710, 6)\n",
      "[[0.34903014]]\n"
     ]
    }
   ],
   "source": [
    "# TAMBAHAN\n",
    "inputpred=values[-1,:]\n",
    "print(inputpred.shape)\n",
    "print(values.shape)\n",
    "#\n",
    "inputpred= inputpred.reshape((1,1,inputpred.shape[0]))\n",
    "prediksinya=model.predict(inputpred)\n",
    "print(prediksinya)"
   ]
  },
  {
   "cell_type": "code",
   "execution_count": null,
   "metadata": {},
   "outputs": [],
   "source": [
    "prediksinya=concatenate((prediksinya[0],test_X[0,1:]))\n",
    "print(prediksinya.reshape(1,-1))\n",
    "prediksinya=scaler.inverse_transform(prediksinya.reshape(1,-1))\n",
    "prediksinya=prediksinya[:,0]\n",
    "print(\"Harga Prediksi\")\n",
    "print(prediksinya)"
   ]
  },
  {
   "cell_type": "code",
   "execution_count": 120,
   "outputs": [],
   "source": [
    "yhat_train = model.predict(train_X)"
   ],
   "metadata": {
    "collapsed": false,
    "pycharm": {
     "name": "#%%\n"
    }
   }
  },
  {
   "cell_type": "code",
   "execution_count": 122,
   "outputs": [
    {
     "name": "stdout",
     "output_type": "stream",
     "text": [
      "Train Score: 0.0011075271 RMSE\n",
      "Test Score: 0.0031498971 RMSE\n"
     ]
    }
   ],
   "source": [
    "trainScore = np.sqrt(mean_squared_error(train_y, yhat_train))\n",
    "print('Train Score: %.10f RMSE' % (trainScore))\n",
    "testScore = np.sqrt(mean_squared_error(test_y, yhat))\n",
    "print('Test Score: %.10f RMSE' % (testScore))"
   ],
   "metadata": {
    "collapsed": false,
    "pycharm": {
     "name": "#%%\n"
    }
   }
  },
  {
   "cell_type": "code",
   "execution_count": null,
   "outputs": [],
   "source": [],
   "metadata": {
    "collapsed": false,
    "pycharm": {
     "name": "#%%\n"
    }
   }
  }
 ],
 "metadata": {
  "interpreter": {
   "hash": "0efa636862abc5fb100f32cb921679bbeae2601dc037673afd237698be785758"
  },
  "kernelspec": {
   "display_name": "Python 3.10.5 64-bit (windows store)",
   "language": "python",
   "name": "python3"
  },
  "language_info": {
   "codemirror_mode": {
    "name": "ipython",
    "version": 3
   },
   "file_extension": ".py",
   "mimetype": "text/x-python",
   "name": "python",
   "nbconvert_exporter": "python",
   "pygments_lexer": "ipython3",
   "version": "3.10.5"
  },
  "orig_nbformat": 4
 },
 "nbformat": 4,
 "nbformat_minor": 2
}